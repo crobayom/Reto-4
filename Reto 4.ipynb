{
 "cells": [
  {
   "cell_type": "markdown",
   "metadata": {},
   "source": [
    "## Reto 4\n",
    "\n",
    "### Determinar si un numero corresponde al codigo ASCII de una vocal minuscula\n",
    "\n",
    "Para esto, cree una variable que recibiria el numero (y quitaria los espacios con la funcion strip(), en caso de que los tuviera) e hice que se comparara con cada numero del codigo ASCII que podria ser una vocal minuscula, luego, simplemete puse un if-else que contemplara todos los casos posibles"
   ]
  },
  {
   "cell_type": "code",
   "execution_count": null,
   "metadata": {},
   "outputs": [],
   "source": [
    "numero:int\n",
    "if __name__==\"__main__\":\n",
    "    numero=int(input(\"Ingrese el numero a verificar: \").strip())\n",
    "    if numero==97 or numero==101 or numero==   105 or numero==111 or numero==117:\n",
    "        print(\"El numero '\" +str(numero)+\"' traducido a codigo ASCII pertenece a una vocal minuscula\")\n",
    "    else:\n",
    "        print(\"El numero '\" +str(numero)+\"' traducido a codigo ASCII no pertenece a una vocal minuscula\")"
   ]
  },
  {
   "cell_type": "markdown",
   "metadata": {},
   "source": [
    "### Determinar si el primer caracter de una cadena de caracteres (de longitud 1) tiene un numero en codigo ASCII que sea par\n",
    "\n",
    "Cree una variable que recibira el caracter, luego, transforme ese caracter en ASCII, y lo dividi entre dos, creando luego un if para que el si el residuo es 0, seria par, sino no"
   ]
  },
  {
   "cell_type": "code",
   "execution_count": null,
   "metadata": {},
   "outputs": [],
   "source": [
    "caracter:str\n",
    "if __name__==\"__main__\":\n",
    "    caracter=str(input(\"Ingrese la cadena de caracteres (de longitud 1) a comprobar: \").strip())\n",
    "    if (ord(caracter))%2==0:\n",
    "        print(\"El primer caracter de la cadena de caracteres ingresada '\" +str(caracter)+\"' tiene un numero de codigo ASCII '\"+str(ord(caracter))+\"', es decir par\")\n",
    "    else :\n",
    "        print(\"El primer caracter de la cadena de caracteres ingresada '\"+str(caracter)+\"' tiene un numero de codigo ASCII '\"+str(ord(caracter))+\"' es decir impar\")"
   ]
  },
  {
   "cell_type": "markdown",
   "metadata": {},
   "source": [
    "### Determinar si un caracter es un digito\n",
    "\n",
    "Cree una variable que recibe el string y luego transforme a codigo ASCII, despues cree un if comparando el numero de ASCII con rango de los digitos"
   ]
  },
  {
   "cell_type": "code",
   "execution_count": null,
   "metadata": {},
   "outputs": [],
   "source": [
    "caracter:str\n",
    "if __name__==\"__main__\":\n",
    "    caracter=str(input(\"Ingrese el caracter a comprobar: \").strip())\n",
    "    ascii:int=ord(caracter)\n",
    "    if ascii>=48 and ascii<=57:\n",
    "        print(\"El caracter ingresado '\"+str(caracter)+\"' es un digito\")\n",
    "    else:\n",
    "        print(\"El caracter ingresado '\"+str(caracter)+\"' no es un digito\")"
   ]
  },
  {
   "cell_type": "markdown",
   "metadata": {},
   "source": [
    "### Determinar si el primer numero es multiplo del segundo"
   ]
  },
  {
   "cell_type": "code",
   "execution_count": null,
   "metadata": {},
   "outputs": [],
   "source": [
    "numero1:float\n",
    "numero2:float\n",
    "if __name__==\"__main__\":\n",
    "    numero1=float(input(\"Ingrese el primer numero: \").strip())\n",
    "    numero2=float(input(\"Ingrese el segundo numero: \").strip())\n",
    "    if numero1%numero2==0:\n",
    "        print(\"El primer numero '\"+str(numero1)+\"' es multiplo del segundo numero '\"+str(numero2)+\"'\")\n",
    "    else:\n",
    "        print(\"El primer numero '\"+str(numero1)+\"' no es multiplo del segundo numero '\"+str(numero2)+\"'\")"
   ]
  },
  {
   "cell_type": "markdown",
   "metadata": {},
   "source": [
    "### Verificar si un numero es positivo, negativo o neutro\n",
    "\n",
    "Cree una variable que reciba el numero, luego compare con los rangos y decidi que escribir"
   ]
  },
  {
   "cell_type": "code",
   "execution_count": null,
   "metadata": {},
   "outputs": [],
   "source": [
    "numero:float\n",
    "if __name__==\"__main__\":\n",
    "    numero=float(input(\"Ingrese el numero a comprobar: \").strip())\n",
    "    if numero>0:\n",
    "        print(\"El número x es positivo\")\n",
    "    elif numero==0:\n",
    "        print(\"El número x es el neutro para la suma\")\n",
    "    else:\n",
    "        print(\"El número x es negativo\")"
   ]
  },
  {
   "cell_type": "markdown",
   "metadata": {},
   "source": [
    "### Verificar si un punto pertenece o no al interior de un circulo\n",
    "\n",
    "Cree variables para la coordinada de 'x' y 'y' del centro del circulo y del punto, ademas del radio, luego, use la ecuacion de distancia entre dos puntos para calcular y comparar con el radio siendo la distancia maxima entre el centro y el punto, finalmente, en el if, compare y decidi que escribir"
   ]
  },
  {
   "cell_type": "code",
   "execution_count": null,
   "metadata": {},
   "outputs": [],
   "source": [
    "    equis:int\n",
    "    ye:int\n",
    "    centroequis:int\n",
    "    centroye:int\n",
    "    radio:int\n",
    "    if __name__==\"__main__\":\n",
    "        centroequis=int(input(\"Ingrese la coordenada 'x' del centro del circulo\").strip())\n",
    "        centroye=int(input(\"Ingrese la coordenada 'y' del centro del circulo\").strip())\n",
    "        radio=int(input(\"Ingrese el radio del circulo\").strip())\n",
    "        equis=int(input(\"Ingrese la coordenada 'x' del punto a verificar\").strip())\n",
    "        ye=int(input(\"Ingrese la coordenada 'y' del punto a verificar\").strip())\n",
    "        \n",
    "        print(\"El circulo: \")\n",
    "        print(\"Centro: (\"+str(centroequis)+\",\"+str(centroye)+\")\")\n",
    "        print(\"Radio: \"+str(radio))\n",
    "        print(\"\")\n",
    "        print(\"El punto a verificar: (\"+str(equis)+\",\"+str(ye)+\")\")\n",
    "\n",
    "        if ((equis-centroequis)**2+(ye-centroye)**2)**0.5<=radio:\n",
    "            print(\"El punto ingresado '\"+str(equis)+\",\"+str(ye)+\"' pertenece al interior del circulo\")\n",
    "        else:\n",
    "            print(\"El punto ingresado '\"+str(equis)+\",\"+str(ye)+\"' no pertenece al interior del circulo\")"
   ]
  },
  {
   "cell_type": "markdown",
   "metadata": {},
   "source": [
    "### Verificacion contruccion de triangulo\n",
    "\n",
    "Cree variables para cada \"lado\" del triangulo, y luego usando el teorema de la diferencia del triangulo, hice las combinaciones posibles (que no se sobrepongan una sobre otra), para que se cumpla y con un if compare, si se cumplian, era valido el triangulo, sino... no"
   ]
  },
  {
   "cell_type": "code",
   "execution_count": null,
   "metadata": {},
   "outputs": [],
   "source": [
    "lado1:float\n",
    "lado2:float\n",
    "lado3:float\n",
    "if __name__==\"__main__\":\n",
    "    lado1=float(input(\"Ingrese una 'longitud positiva': \").strip())\n",
    "    lado2=float(input(\"Ingrese una 'longitud positiva': \").strip())\n",
    "    lado3=float(input(\"Ingrese una 'longitud positiva': \").strip())\n",
    "    if lado1+lado2>=lado3 and lado1+lado3>=lado2 and lado3+lado2>=lado1:\n",
    "        print(\"Con las medidas dadas se puede crear un triangulo\")\n",
    "    else:\n",
    "        print(\"Con las medidas dadas no se puede crear un triangulo\")"
   ]
  },
  {
   "cell_type": "markdown",
   "metadata": {},
   "source": [
    "### Pais de america y su capital\n",
    "\n",
    "Para este programa, cree variables para todos los paises de america y otras relacionadas (por el nombre) de sus respectivas capitales, cree una variable que recibe el nombre, y compare, usando un if-elif-else para decidir que escribir segun sea el caso, luego me di cuenta que era con match-case, y reutilize las variables"
   ]
  },
  {
   "cell_type": "code",
   "execution_count": null,
   "metadata": {},
   "outputs": [],
   "source": [
    "a:str=\"canada\"\n",
    "b:str=\"estados unidos\"\n",
    "c:str=\"mexico\"\n",
    "d:str=\"belice\"\n",
    "e:str=\"costa rica\"\n",
    "f:str=\"el salvador\"\n",
    "g:str=\"guatemala\"\n",
    "h:str=\"honduras\"\n",
    "i:str=\"nicaragua\"\n",
    "j:str=\"panama\"\n",
    "k:str=\"argentina\"\n",
    "l:str=\"bolivia\"\n",
    "m:str=\"brasil\"\n",
    "n:str=\"chile\"\n",
    "o:str=\"colombia\"\n",
    "p:str=\"ecuador\"\n",
    "q:str=\"paraguay\"\n",
    "r:str=\"peru\"\n",
    "s:str=\"surinam\"\n",
    "t:str=\"trinidad y tobago\"\n",
    "u:str=\"uruguay\"\n",
    "v:str=\"venezuela\"\n",
    "w:str=\"antigua y barbuda\"\n",
    "x:str=\"bahamas\"\n",
    "y:str=\"barbados\"\n",
    "z:str=\"cuba\"\n",
    "aa:str=\"dominica\"\n",
    "ab:str=\"granada\"\n",
    "ac:str=\"guyana\"\n",
    "ad:str=\"haiti\"\n",
    "ae:str=\"jamaica\"\n",
    "af:str=\"republica dominicana\"\n",
    "ag:str=\"san cristobal y nieves\"\n",
    "ah:str=\"san vicente y las granadinas\"\n",
    "ai:str=\"santa lucia\"\n",
    "\n",
    "a1:str=\"ottawa\"\n",
    "b1:str=\"washington dc\"\n",
    "c1:str=\"mexico df\"\n",
    "d1:str=\"belmopan\"\n",
    "e1:str=\"san jose\"\n",
    "f1:str=\"san salvador\"\n",
    "g1:str=\"ciudad de guatemala\"\n",
    "h1:str=\"tegucigalpa\"\n",
    "i1:str=\"managua\"\n",
    "j1:str=\"panama\"\n",
    "k1:str=\"buenos aires\"\n",
    "l1:str=\"sucre\"\n",
    "m1:str=\"brasilia\"\n",
    "n1:str=\"santiago de chile\"\n",
    "o1:str=\"bogota\"\n",
    "p1:str=\"quito\"\n",
    "q1:str=\"asuncion\"\n",
    "r1:str=\"lima\"\n",
    "s1:str=\"paramaribo\"\n",
    "t1:str=\"puerto espana\"\n",
    "u1:str=\"montevideo\"\n",
    "v1:str=\"caracas\"\n",
    "w1:str=\"saint john\"\n",
    "x1:str=\"nasau\"\n",
    "y1:str=\"bridgetown\"\n",
    "z1:str=\"la habana\"\n",
    "aa1:str=\"roseau\"\n",
    "ab1:str=\"saint george\"\n",
    "ac1:str=\"georgetown\"\n",
    "ad1:str=\"puerto principe\"\n",
    "ae1:str=\"kingston\"\n",
    "af1:str=\"santo domingo\"\n",
    "ag1:str=\"basseterre\"\n",
    "ah1:str=\"kingstown\"\n",
    "ai1:str=\"castries\"\n",
    "\n",
    "pais:str\n",
    "\n",
    "if __name__==\"__main__\":\n",
    "    pais=str(input(\"Ingrese el nombre del pais sin acento y en minuscula\"))\n",
    "    match pais:\n",
    "        case a:\n",
    "            print(a1)\n",
    "        case b:\n",
    "            print(b1)\n",
    "        case c:\n",
    "            print(c1)\n",
    "        case d:\n",
    "            print(d1)\n",
    "        case e:\n",
    "            print(e1)\n",
    "        case f:\n",
    "            print(f1)\n",
    "        case g:\n",
    "            print(g1)\n",
    "        case h:\n",
    "            print(h1)\n",
    "        case i:\n",
    "            print(i1)\n",
    "        case j:\n",
    "            print(j1)\n",
    "        case k:\n",
    "            print(k1)\n",
    "        case l:\n",
    "            print(l1)\n",
    "        case m:\n",
    "            print(m1)\n",
    "        case n:\n",
    "            print(n1)\n",
    "        case o:\n",
    "            print(o1)\n",
    "        case p:\n",
    "            print(p1)\n",
    "        case q:\n",
    "            print(q1)\n",
    "        case r:\n",
    "            print(r1)\n",
    "        case s:\n",
    "            print(s1)\n",
    "        case t:\n",
    "            print(t1)\n",
    "        case u:\n",
    "            print(u1)\n",
    "        case v:\n",
    "            print(v1)\n",
    "        case w:\n",
    "            print(w1)\n",
    "        case x:\n",
    "            print(x1)\n",
    "        case y:\n",
    "            print(y1)\n",
    "        case z:\n",
    "            print(z1)\n",
    "        case aa:\n",
    "            print(aa1)\n",
    "        case ab:\n",
    "            print(ab1)\n",
    "        case ac:\n",
    "            print(ac1)\n",
    "        case ad:\n",
    "            print(ad1)\n",
    "        case ae:\n",
    "            print(ae1)\n",
    "        case af:    \n",
    "            print(af1)\n",
    "        case ag:\n",
    "            print(ag1)\n",
    "        case ah:\n",
    "            print(ah1)\n",
    "        case ai:\n",
    "            print(ai1)\n",
    "        case _:\n",
    "        print(\"Pais no identificado\")\n"
   ]
  }
 ],
 "metadata": {
  "kernelspec": {
   "display_name": "Python 3",
   "language": "python",
   "name": "python3"
  },
  "language_info": {
   "codemirror_mode": {
    "name": "ipython",
    "version": 3
   },
   "file_extension": ".py",
   "mimetype": "text/x-python",
   "name": "python",
   "nbconvert_exporter": "python",
   "pygments_lexer": "ipython3",
   "version": "3.10.11"
  }
 },
 "nbformat": 4,
 "nbformat_minor": 2
}
